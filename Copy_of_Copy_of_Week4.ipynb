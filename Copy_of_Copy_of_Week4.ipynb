{
  "nbformat": 4,
  "nbformat_minor": 0,
  "metadata": {
    "colab": {
      "name": "Copy of Copy of Week4.ipynb",
      "private_outputs": true,
      "provenance": [],
      "collapsed_sections": [],
      "include_colab_link": true
    },
    "kernelspec": {
      "name": "python3",
      "display_name": "Python 3"
    }
  },
  "cells": [
    {
      "cell_type": "markdown",
      "metadata": {
        "id": "view-in-github",
        "colab_type": "text"
      },
      "source": [
        "<a href=\"https://colab.research.google.com/github/Javier3javier92/IT-211/blob/main/Copy_of_Copy_of_Week4.ipynb\" target=\"_parent\"><img src=\"https://colab.research.google.com/assets/colab-badge.svg\" alt=\"Open In Colab\"/></a>"
      ]
    },
    {
      "cell_type": "markdown",
      "metadata": {
        "id": "7yiqcKoEDvYr"
      },
      "source": [
        "This is a place for your notes and code examples.  Here's a demo, which you should feel free to delete:\n",
        "<br>\n",
        "<br>\n",
        "<br>"
      ]
    },
    {
      "cell_type": "code",
      "metadata": {
        "id": "C1iwTduXEVFm"
      },
      "source": [
        "%%writefile For.java\n",
        "public class For{\n",
        "    public static void main(String [] args){\n",
        "        String myString = \"I am a string!\";\n",
        "        \n",
        "        System.out.println(\"Letter     Position     Ascii\");\n",
        "        for (int i = 0; i < myString.length(); i++) {             /* first segment (int i = 0;) sets the value of i\n",
        "                                                                     second segment (i < myString.length();) sets the continuation conditions\n",
        "                                                                     third segment (i++) sets the action performed when the loop is finished\n",
        "                                                                  */\n",
        "                                                     \n",
        "            char charByChar = myString.charAt(i);                 /* Here we are putting the string value at position i into a char variable called\n",
        "                                                                     charBychar. Remember that chars can only hold one letter or symbol at a time.\n",
        "                                                                  */       \n",
        "            int castAscii = (int) charByChar;                     /* We are converting our character variable to an ascii code stored in the\n",
        "                                                                     castAscii variable.  Converting a var from one tye to another is called\n",
        "                                                                     \"casting\"\n",
        "                                                                  */\n",
        "            \n",
        "            System.out.println(\"  \" + charByChar + \"           \" + i + \"          \" + castAscii);\n",
        "            // If we want this printed all on the same line, we can change println to print\n",
        "            // See how the numbers above cause formatting issues?  We can fix that with some alignment\n",
        "            \n",
        "            // System.out.printf(\"  \" + charByChar + \"        %4d          \" + castAscii + \"%n\",i);\n",
        "            // What are the different formatting guidelines we're learning here?\n",
        "            // The even better way is to use string.format()\n",
        "        } \n",
        "    }\n",
        "}"
      ],
      "execution_count": null,
      "outputs": []
    },
    {
      "cell_type": "code",
      "metadata": {
        "id": "jRzZxWlTEgN7"
      },
      "source": [
        "!javac MyNotes.java\n",
        "!java MyNotes"
      ],
      "execution_count": null,
      "outputs": []
    },
    {
      "cell_type": "markdown",
      "metadata": {
        "id": "CER-3tJ3Dotl"
      },
      "source": [
        "You only need to run the code below if you want to use Java 12. You won't need the special new properties of Java 12 for most of the class, but be aware that our GitHub Classroom tests run on Java 12."
      ]
    },
    {
      "cell_type": "code",
      "metadata": {
        "id": "jT9yfcqCDeC5"
      },
      "source": [
        "!sudo add-apt-repository ppa:openjdk-r/ppa -y\n",
        "!sudo apt-get update -y -q\n",
        "!sudo apt-get install openjdk-12-jre-headless -y -q\n",
        "!echo \"0\" | sudo update-alternatives --config java\n",
        "!java -version"
      ],
      "execution_count": null,
      "outputs": []
    }
  ]
}