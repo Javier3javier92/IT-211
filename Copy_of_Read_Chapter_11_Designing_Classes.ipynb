{
  "nbformat": 4,
  "nbformat_minor": 0,
  "metadata": {
    "colab": {
      "name": "Copy of Read Chapter 11  - Designing Classes",
      "private_outputs": true,
      "provenance": [],
      "collapsed_sections": [],
      "include_colab_link": true
    },
    "kernelspec": {
      "name": "python3",
      "display_name": "Python 3"
    }
  },
  "cells": [
    {
      "cell_type": "markdown",
      "metadata": {
        "id": "view-in-github",
        "colab_type": "text"
      },
      "source": [
        "<a href=\"https://colab.research.google.com/github/Javier3javier92/IT-211/blob/main/Copy_of_Read_Chapter_11_Designing_Classes.ipynb\" target=\"_parent\"><img src=\"https://colab.research.google.com/assets/colab-badge.svg\" alt=\"Open In Colab\"/></a>"
      ]
    },
    {
      "cell_type": "markdown",
      "metadata": {
        "id": "8DzSGaD2XJK8"
      },
      "source": [
        "Read Chapter 11 of Think Java, 2nd Edition, answer questions 1 - 16, and complete the ``exercise in a copy of this notebook.\n",
        "\n",
        "Chapter 11: https://learning.oreilly.com/library/view/think-java-2nd/9781492072492/ch11.html\n",
        "\n",
        "Reminder: to edit a text block or a code block you can double click on it, or hover over it and press the pencil in the upper right hand corner.\n",
        "\n",
        "Please save frequently! I don't want you to lose your work. When you first open this notebook, go to File > Save. The first time you do this it will tell you it is making a copy. Say yes that you want to save the changes to your copy. When you're done, save your notebook (File > Save) and then save a copy of your notebook to GitHub (File > Save to GitHub). Don't save to GitHub until you're done. Send me the link to your file in GitHub to complete this assignment.\n",
        "\n",
        "If you get stuck, ask on Slack!"
      ]
    },
    {
      "cell_type": "markdown",
      "metadata": {
        "id": "RXuniPWcfVt4"
      },
      "source": [
        "#Questions"
      ]
    },
    {
      "cell_type": "markdown",
      "metadata": {
        "id": "zuk5KA9QfaoM"
      },
      "source": [
        "# Chapter 11\n",
        "\n",
        "1. Is every object an instance of a class?\n",
        "\n",
        "A(1). Yes every object belongs to an object type it is an instance of a class.\n",
        "\n",
        "2. What does instantiating an object mean?\n",
        "\n",
        "A(2). It creates new instances of a class.\n",
        "\n",
        "3. What is another name for attributes?\n",
        "\n",
        "A(3). Attributes are also called instance variables because each instance has its own variables.\n",
        "\n",
        "4. What does it mean if an instance variable is private?\n",
        "\n",
        "A(4).  Private instance variables help keep classes isolated from each other.\n",
        "\n",
        "5. What is a constructor?\n",
        "\n",
        "A(5). It's a special method that initializes the instance variables of a newly constructed object.\n",
        "\n",
        "6. What does the keyword `this` do?\n",
        "\n",
        "A(6). The keyword refers to the object you are creating. You can use this the same way you use the name of any other object.\n",
        "\n",
        "\n",
        "7.  What is a default constructor?  What is a value constructor?\n",
        "\n",
        "A(7). Default constructor takes no arguments & value constructor takes arguments.\n",
        "\n",
        "8. What must you do to invoke a constructor?\n",
        "\n",
        "A(8). Provide arguments to the new operator with ().\n",
        "\n",
        "\n",
        "9. What is shadowing?  Why is the keyword `this` useful when shadowing?\n",
        "\n",
        "A(9). Shadowing occurs when a local variable or parameter has the same name as an attribute. Java provides the keyword this so you can access instance variables regardless of shadowing.\n",
        "\n",
        "10.  In the space below, add 2 attributes/instance variables and one constructor to the class NewClass.  Make sure it compiles before you move on."
      ]
    },
    {
      "cell_type": "code",
      "metadata": {
        "id": "SYOLoSQZja_L"
      },
      "source": [
        "%%writefile NewClass.java\n",
        "public class NewClass {\n",
        "    private int x;\n",
        "    private int y;\n",
        "\n",
        "    public NewClass(int x, int y){\n",
        "        this.x = 0;\n",
        "        this.y = 0;\n",
        "    }\n",
        "\n",
        "  public static void main(String [] args) {\n",
        "      NewClass test = new NewClass(0,0);\n",
        "  }\n",
        "}"
      ],
      "execution_count": null,
      "outputs": []
    },
    {
      "cell_type": "code",
      "metadata": {
        "id": "AIUgY-edjb0M"
      },
      "source": [
        "!javac NewClass.java \n",
        "!java NewClass"
      ],
      "execution_count": null,
      "outputs": []
    },
    {
      "cell_type": "markdown",
      "metadata": {
        "id": "_s126ognkxl7"
      },
      "source": [
        "11. Why is it good to avoid making instance variables (also called attributes) public?\n",
        "\n",
        "A(11). When the first class accesses the instance variables of the second class directly. The first class will become dependent on the second class.\n",
        "\n",
        "12. What is a *getter*?  What is the naming convention exists for them?\n",
        "\n",
        "A(12). Getter is a method that returns the value of an instance variable. IBy convention, the method that gets a variable named something is called getSomething\n",
        "\n",
        "13. What is a *setter/ mutator*?  What naming convention exists for them?\n",
        "\n",
        "A(13). Setter is a method that assigns a value to an instance variable.\n",
        "\n",
        "14. What does the method .toString do in every object?\n",
        "\n",
        "A(14). It returns a string representation of the object. When you display an object using print or println Java invokes the object’s toString method.\n",
        "\n",
        "15.  What is an instance method?  Are they static or nonstatic?\n",
        "\n",
        "A(15). A nonstatic method that has access to this and the instance variables.\n",
        "\n",
        "16.  Why would you want to write your own equals method for a class?\n",
        "\n",
        "A(16). We want the objects to be equivalent but not identical we would want to write equals method.\n",
        "\n",
        "\n",
        "17.  What problem does the final version of the instance method *add* run into?"
      ]
    },
    {
      "cell_type": "markdown",
      "metadata": {
        "id": "mFYEcz5IrQZA"
      },
      "source": [
        "# Exercise 11 - 2 (From the Book)\n",
        "\n",
        "*This exercise is long, which might make it look scary, but every part of it is demoed in the book using a different example, so don't be intimidated.  If you just take the code one step at a time, you will be fine!*\n",
        "\n",
        "*If you get stuck on any part for more than 10 minutes, reach out to me or a classmate.  These coding concepts are new, but they can be used simply.*\n",
        "\n",
        "In the board game Scrabble, each tile contains a letter, which is used to spell words in rows and columns, and a score, which is used to determine the value of words. The point of this exercise is to practice the mechanical part of creating a new class definition.\n",
        "\n",
        "1. Write a definition for a class named Tile that represents Scrabble tiles. The instance variables should include a character named letter and an integer named value.\n",
        "\n",
        "2. Write a constructor that takes parameters named letter and value, and initializes the instance variables.\n",
        "\n",
        "3. Write a method named printTile that takes a Tile object as a parameter and displays the instance variables in a reader-friendly format.\n",
        "\n",
        "4. Write a main method that creates a Tile object with the letter Z and the value 10, and then uses printTile to display the state of the object.\n",
        "\n",
        "5. Implement the toString and equals methods for a Tile.\n",
        "\n",
        "6. Create getters and setters for each of the attributes."
      ]
    },
    {
      "cell_type": "code",
      "metadata": {
        "id": "8hcZhcBWrP8X"
      },
      "source": [
        "%%writefile Tile.java\n",
        "\n",
        "// Class definition for tile        (task 1)\n",
        "public class Tile{\n",
        "    // instance variable 1          (task 1) Note: these should probobly be private, since there are getters and setters.\n",
        "    // instance variable 2          (task 1) Note: these should probobly be private, since there are getters and setters.\n",
        "    private char letter;\n",
        "    private int value;          \n",
        "\n",
        "    // constructor                  (task 2)\n",
        "    public Tile(char letter, int value) {\n",
        "        this.letter = letter;\n",
        "        this.value = value;\n",
        "    }\n",
        "\n",
        "    // printTile method             (task 3)\n",
        "    // Wil need to use our getter method to get these values?\n",
        "    public void printTile() {\n",
        "        System.out.println(\"This tile's letter: \" + this.letter + \". This tile's value is: \" + this.value + \".\");\n",
        "    }\n",
        "\n",
        "    // main method                  (task 4)\n",
        "    public static void main(String [] args) {\n",
        "        Tile myTile = new Tile('z', 10);\n",
        "        Tile mySecondTile = new Tile('z', 10);\n",
        "        myTile.printTile();\n",
        "        Tile.printTile(myTile);\n",
        "        System.out.println(myTile.toString());\n",
        "        System.out.println(myTile.equals(mySecondTile));\n",
        "        System.out.println(mySecondTile.getValue);\n",
        "        System.out.println(myTile.getLetter);\n",
        "        myTile.setLetter('H');\n",
        "        myTile.setValue(5);\n",
        "        System.out.println(myTile.toString());\n",
        "\n",
        "    }\n",
        "    // toString method              (task 5)\n",
        "    public String toString(){\n",
        "        return \"letter: \" + this.letter + \" value: \" + this.value;\n",
        "    }\n",
        "\n",
        "    // equals method                (task 5)\n",
        "    public boolean equals(Tile tile) {\n",
        "        if (tile.letter == this.letter && tile.value == this.value) {\n",
        "            return true;\n",
        "        } else {\n",
        "            return false;\n",
        "        }\n",
        "    }\n",
        "\n",
        "    // getter method for instance variable 1        (task 6)\n",
        "    // getter method for instance variable 2        (task 6)\n",
        "    public char getLetter() {\n",
        "        return this.letter;\n",
        "    }\n",
        "\n",
        "    public int getValue() {\n",
        "        return this.value;\n",
        "    }\n",
        "\n",
        "    // setter method for instance variable 1        (task 6)\n",
        "    // setter method for instance variable 2        (task 6) \n",
        "    public void setLetter(char letter) {\n",
        "        this.letter = letter;\n",
        "    }\n",
        "    public void setValue(int value){\n",
        "        this.value = value;\n",
        "    }\n",
        "}\n",
        "class test{\n",
        "    public static void main(String [] args) {\n",
        "        Tile testTile = new Tile('N', 2);\n",
        "        Tile.printTile(testTile);\n",
        "    }\n",
        "}"
      ],
      "execution_count": null,
      "outputs": []
    },
    {
      "cell_type": "code",
      "metadata": {
        "id": "pUHTttMmrPrT"
      },
      "source": [
        "!javac Tile.java\n",
        "!java Tile"
      ],
      "execution_count": null,
      "outputs": []
    }
  ]
}