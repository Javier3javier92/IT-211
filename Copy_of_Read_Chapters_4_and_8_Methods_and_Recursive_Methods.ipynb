{
  "nbformat": 4,
  "nbformat_minor": 0,
  "metadata": {
    "colab": {
      "name": "Copy of Read Chapters 4 and 8 - Methods and Recursive Methods.ipynb",
      "private_outputs": true,
      "provenance": [],
      "collapsed_sections": [],
      "include_colab_link": true
    },
    "kernelspec": {
      "name": "python3",
      "display_name": "Python 3"
    }
  },
  "cells": [
    {
      "cell_type": "markdown",
      "metadata": {
        "id": "view-in-github",
        "colab_type": "text"
      },
      "source": [
        "<a href=\"https://colab.research.google.com/github/Javier3javier92/IT-211/blob/main/Copy_of_Read_Chapters_4_and_8_Methods_and_Recursive_Methods.ipynb\" target=\"_parent\"><img src=\"https://colab.research.google.com/assets/colab-badge.svg\" alt=\"Open In Colab\"/></a>"
      ]
    },
    {
      "cell_type": "markdown",
      "metadata": {
        "id": "oVflJm04tNVY"
      },
      "source": [
        "Read Chapters 4 & 8 of Think Java, 2nd Edition, answer questions 1 - 14 for Chapter 4, 1-9 for Chapter 8, and complete the two labs in a copy of this notebook.\n",
        "\n",
        "Chapter 4: https://learning.oreilly.com/library/view/think-java-2nd/9781492072492/ch04.html\n",
        "\n",
        "Chapter 8: https://learning.oreilly.com/library/view/think-java-2nd/9781492072492/ch08.html\n",
        "\n",
        "***Reminder: to edit a text block or a code block you can double click on it, or hover over it and press the pencil in the upper right hand corner.***\n",
        "\n",
        "**Please save frequently!** I don't want you to lose your work. When you first open this notebook, go to File > Save. The first time you do this it will tell you it is making a copy. Say yes that you want to save the changes to your copy. When you're done, save your notebook (File > Save) and then save a copy of your notebook to GitHub (File > Save to GitHub). Don't save to GitHub until you're done. Send me the link to your file in GitHub to complete this assignment.\n",
        "\n",
        "If you get stuck, ask on Slack!"
      ]
    },
    {
      "cell_type": "markdown",
      "metadata": {
        "id": "VJA3ivx8mxNU"
      },
      "source": [
        "# Questions"
      ]
    },
    {
      "cell_type": "markdown",
      "metadata": {
        "id": "4-xUlOU9mzid"
      },
      "source": [
        "# Chapter 4\n",
        "\n",
        "1. If my method is declared as `public static void myMethod(String a)` what does it return?\n",
        "\n",
        "A(1). A void method does not return a value\n",
        "\n",
        "2. If my method is declared as `public static String myMethod(int x)` what does it return?\n",
        "\n",
        "A(2). String value\n",
        "\n",
        "3. What does it mean if a method is public?\n",
        "\n",
        "A(3). A public method can be accessed everywhere.\n",
        "The private method can only be accessed from the same class.\n",
        "\n",
        "4. By convention, do method names begin with upper-case or lower-case letters?\n",
        "\n",
        "A(4). Uppercase\n",
        "\n",
        "5. What is the flow of execution for the following code block?\n",
        "\n",
        "```java\n",
        "public static void extraLines(int x) {\n",
        "    for (int i = 0; i < x; i++) {\n",
        "        System.out.println(\"\");\n",
        "        return;\n",
        "    }\n",
        "\n",
        "public static String smileMyLine(String a) {\n",
        "    String surroundSmile = \":) :P :-) \" + a + \" (: :) :P\";\n",
        "    return (surroundSmile);\n",
        "}\n",
        "\n",
        "public static void main(String [] args) {\n",
        "    String happy = \"Send cute cat pictures!\";\n",
        "\n",
        "    System.out.println(happy);\n",
        "    smileMyLine(happy);\n",
        "    extraLines(5);\n",
        "    smileMyLine(happy);\n",
        "}\n",
        "```\n",
        "\n",
        "A(5). The main class is executed and println happy is executed it. Method smileyMyLine is called with the \"happy\" as a argument which returns :) :P :-) + Send cute cat pictures! (: :) :P extraline method is then called with parameter 5 that will give you 5 line breaks.\n",
        "\n",
        "\n",
        "6. List three reasons breaking code down into methods can be useful.\n",
        "\n",
        "A(6).  \n",
        "Creating a new method allows you to name a block of statements\n",
        "which makes the code easier to read.\n",
        "Introducing new methods can make the program shorter by eliminating repetitive code.\n",
        "A common problem-solving technique is to break problems down into subproblems. Methods allow you to focus on each subproblem in isolation\n",
        "\n",
        "\n",
        "7. What is an `argument` and what is a `parameter`?\n",
        "\n",
        "A(7). \n",
        "Arguments are values that you can provide in parentheses when you place the method. \n",
        "Parameters are variables that indicate what arguments are required.\n",
        "\n",
        "8. What happens if the argument you pass to a method doesn't match the method's parameter?\n",
        "\n",
        "A(8). If it doesn't match the method's parameter you will get an error message. This error message says that it found an int argument but the required parameter should be a String. In the case of printTwice, Java won’t convert the integer 17 to the string \"17\" automatically.\n",
        "\n",
        "\n",
        "9. Say I have two variables, `int num1 = 7; and int num2 = 5;` and I pass them to a method that performs addtion `public static int addTwo(int x, int y)` what will be the variable names of the numbers passed to addTwo (`addTwo(num1, num2);`) when they are inside the addTwo method?\n",
        "\n",
        "A(9). X & Y\n",
        "\n",
        "10. What does composition mean?\n",
        "\n",
        "A(10). A design technique in which your class can have an instance of another class as a field of your class.\n",
        "\n",
        "11. How do you specify a return value in a method?\n",
        "\n",
        "A(11). You declare a method's return type in its method declaration. ]\n",
        "You use the return statement to return the value & any method declared void doesn't return a value.\n",
        "\n",
        "12. How would you store a return value?\n",
        "\n",
        "A(12). Assigning it to a new variable type that is the same return type\n",
        "\n",
        "13. What are three key aspects of incremental development?\n",
        "\n",
        "A(13). \n",
        "1) Start with a working program and make smallchanges, at any point if there is an error, you will know where to look.\n",
        "2) Use variables to hold intermediate values so you can check them, either with print statements.\n",
        "3) Once the program is working you can consolidate multiple statements into compound expressions.\n",
        "\n",
        "14. What is \"scaffolding\" and what is it useful for in development?\n",
        "\n",
        "A(14). Scaffolding is a meta-programming method of building database-backed software applications. It is a technique supported by some model-view-controller frameworks, in which the programmer may write a specification that describes how the application database may be used.Scaffolding is helpful for building the program but is not part of the final product.\n",
        "\n"
      ]
    },
    {
      "cell_type": "markdown",
      "metadata": {
        "id": "U_EACRKVus_Y"
      },
      "source": [
        "# Chapter 8\n",
        "\n",
        "1. What does 'iterative' mean in this context?\n",
        "\n",
        "A(1). Iterative are used when needed to repeat something. Iteration statements create loops in the program. \n",
        "\n",
        "\n",
        "2. What is a method that invokes itself called?\n",
        "\n",
        "A(2). Recursive\n",
        "\n",
        "3. In the method `countdown` how many additional countdown methods would be invoked if `n` were equal to 6 inside a `countdown` method?\n",
        "\n",
        "A(3). 6\n",
        "\n",
        "4. Why do the recursive methods `countdown` and `nLines` call themselves with `n - 1`?\n",
        "\n",
        "A(4). As long as n is greater than 0 it displays a newline and then presents itself to display (n−1) additional newlines. The total number of newlines is \n",
        "1+(n−1) \n",
        "\n",
        "5. What is a base case?  What is a stack overflow error?\n",
        "\n",
        "A(5). The base case returns a value without making any subsequent recursive calls. Base case does not make a recursive call, so there are no more frames below it. A StackOverflowError is a runtime error in java. \n",
        "A common case of a StackOverflowError being thrown is when the call stack exceeds due to excessive deep or infinite recursion.\n",
        "\n",
        "\n",
        "6. Explain what is going on in the code below (the book does a good job of diagramming it out for you).  When are the values on n returned?  What happens first?\n",
        "\n",
        "```java\n",
        "public static int factorial(int n) {\n",
        "    if (n == 0) {\n",
        "        return 1;\n",
        "    }\n",
        "    int recurse = factorial(n - 1);\n",
        "    int result = n * recurse;\n",
        "    return result;\n",
        "}\n",
        "```\n",
        "\n",
        "A(6). The class itself int rescurse value of n is once turned as 1\n",
        "\n",
        "7. Okay, the book told you not to visualize the recursive fibonacci sequence or your mind would be blown, so this question is not asking you to do that.  Instead, it is asking you to explain what's going on with the return statement.  We know that fibonacci() takes an integer and that integer symbolizes which number in the fibonnaci sequence you want to calculate the value of.  For example, the 7th number in the fibonacci sequence is 13, so when we execute `fibonacci(7)` below it returns 13. \n",
        "\n",
        "When it says `return fibonacci(n - 1) + fibonacci(n - 2);`, what does that mean?\n",
        "\n",
        "(I've put in a print statement that might or might not help, leave it in or remove it as you like)"
      ]
    },
    {
      "cell_type": "code",
      "metadata": {
        "id": "tZhazLQKHTfw"
      },
      "source": [
        "%%writefile VisualizeFibonacci.javapublic class VisualizeFibonacci{    public static void main(String [] main){        int result = fibonacci(7);        System.out.println(result);    }     public static int fibonacci(int n) {        if (n == 1 || n == 2) {            return 1;        }        System.out.println(\"fibonacci (\" + (n - 1) + \") + fibonacci(\" + (n - 2) + \").  Where n is \" + n + \".\");        return fibonacci(n - 1) + fibonacci(n - 2);    }}\n"
      ],
      "execution_count": null,
      "outputs": []
    },
    {
      "cell_type": "code",
      "metadata": {
        "id": "4NksZjV-IMmP"
      },
      "source": [
        "!javac VisualizeFibonacci.java\n",
        "!java VisualizeFibonacci"
      ],
      "execution_count": null,
      "outputs": []
    },
    {
      "cell_type": "markdown",
      "metadata": {
        "id": "4O78__TVXOEz"
      },
      "source": [
        "A(7). The return value comes different. \n",
        "\n",
        "8. Why does `countup` reverse the output?\n",
        "\n",
        "A(8).Count up reverses the output because System.out.println happens just before each recursive call returns.\n",
        "\n",
        "9. Describe how and why the code for `nox` presented in the book, works!\n",
        "\n",
        "A(9). Its given a different variable."
      ]
    },
    {
      "cell_type": "markdown",
      "metadata": {
        "id": "cWzWS6g3Z3dS"
      },
      "source": [
        "# Exercises\n",
        "\n",
        "Please complete Exercise 4-1 to apply your knowledge from Chapter 4 and Exercise 8-1 to apply your knowledge from Chapter 8.  **As always, ask if you have problems or get stuck.  **\n",
        "\n",
        "*Exercise 8-1 has a very sneaky simple solution, but you can also brute force it if you need to.  I've tried to provide good hints!*\n",
        "\n",
        "\n"
      ]
    },
    {
      "cell_type": "markdown",
      "metadata": {
        "id": "1ag4PvEEvd7g"
      },
      "source": [
        "# Exercise 4-1 (Methods) stickTogether()\n",
        "\n",
        "*This exercise is not from the book*\n",
        "\n",
        "* Write a method called `stickTogether()` that is called from the `main` method.  \n",
        "* The `stickTogether()` method should take **three strings** as **arguments**\n",
        "* The `stickTogether()` method should `return those` three strings **concatenated together** into one string, with two spaces in between each string.  \n",
        "\n",
        "* Example concatonation: `myFirstString + \"  \" +  mySecondString + \"  \" + myThirdString`."
      ]
    },
    {
      "cell_type": "code",
      "metadata": {
        "id": "EGJQKKmKw8Ab"
      },
      "source": [
        "%%writefile MyClass.java\n",
        "public class MyClass{\n",
        "    // you'll need to declare public static and the return type of stickTogether\n",
        "    public static String stickTogether(String a,String b, String c) {\n",
        "        String d= (a+\"  \"+b+\"  \"+c);\n",
        "        return d;\n",
        "\n",
        "    }\n",
        "\n",
        "    public static void main(String [] args) {\n",
        "        String string1 = \"I\";  // Please put something in the quotes for strings 1, 2 and 3.\n",
        "        String string2 = \"Miss\";\n",
        "        String string3 = \"California\";\n",
        "\n",
        "        String stuck = stickTogether(string1, string2, string3);\n",
        "        System.out.println(stuck);\n",
        "    }\n",
        "\n",
        "}"
      ],
      "execution_count": null,
      "outputs": []
    },
    {
      "cell_type": "code",
      "metadata": {
        "id": "oQAVecmGw710"
      },
      "source": [
        "!javac MyClass.java \n",
        "!java MyClass"
      ],
      "execution_count": null,
      "outputs": []
    },
    {
      "cell_type": "markdown",
      "metadata": {
        "id": "_aaHIEGIaDML"
      },
      "source": [
        "# Exercise 8-1 (Recursive Methods) beveragesOnAWall()\n",
        "\n",
        "*Note: This exercise is from the book with added comments and structure.*\n",
        "\n",
        "The purpose of this exercise is to take a problem and break it into smaller problems, and to solve the smaller problems by writing simple methods. Consider the first verse of the song “99 Bottles of Beer”:\n",
        "\n",
        "99 bottles of beer on the wall, 99 bottles of beer, ya’ take one down, ya’ pass it around, 98 bottles of beer on the wall.\n",
        "\n",
        "Subsequent verses are identical except that the number of bottles gets smaller by one in each verse, until the last verse:\n",
        "\n",
        "No bottles of beer on the wall, no bottles of beer, ya’ can’t take one down, ya’ can’t pass it around, ’cause there are no more bottles of beer on the wall!\n",
        "\n",
        "And then the song (finally) ends.\n",
        "\n",
        "Write a program that displays the entire lyrics of “99 Bottles of Beer”. Your program should include a recursive method that does the hard part, but you might want to write additional methods to separate other parts of the program. As you develop your code, test it with a small number of verses, like 3.\n",
        "\n",
        "**Despite the book's sugestions, you can complete this method by simply adding 2 println statements and one recursive call.  Don't make it too complicated.  Also, remember that you can print out a number with math in the println statement, you don't need to rely on a recursive method to do math for you, you can print System.out.println(\"n - 1 = \" + (n -1)); without recursing to get the value.  I've provided you with the structure for the terse answer, but feel free to write as many methods as you would like**\n",
        "\n",
        "*Note: You should feel free to change the beverage and container, just so long as you keep the overall structure of the song.  For example: \"99 cups of coffee\" on the wall is a perfectly acceptable substitute, just as \"99 mugs of tea\" would be, or really anything other beverage and container you would like to substitute.*"
      ]
    },
    {
      "cell_type": "code",
      "metadata": {
        "id": "cSdPQANKaxEN"
      },
      "source": [
        "%%writefile NinetyNineBeverages.java\n",
        "public class NinetyNineBeverages{\n",
        "    public static void main(String [] args) {\n",
        "        beveragesOnAWall(99);\n",
        "\n",
        "    }\n",
        "\n",
        "    public static void beveragesOnAWall(int x) {\n",
        "        if (x == 0) {\n",
        "            System.out.println();\n",
        "            return;\n",
        "\n",
        "        } else {\n",
        "           System.out.println(x + \" bottles of beer on the wall, \"+ x +\"bottles of beer, ya’ take one down, ya’ pass it around, \" +(x-1)+ \" bottles of beer on the wall.\"); \n",
        "            beveragesOnAWall(x-1);\n",
        "        }\n",
        "\n",
        "    }\n",
        "}"
      ],
      "execution_count": null,
      "outputs": []
    },
    {
      "cell_type": "code",
      "metadata": {
        "id": "ZSUEJmfYdWV_"
      },
      "source": [
        "!javac NinetyNineBeverages.java\n",
        "!java NinetyNineBeverages"
      ],
      "execution_count": null,
      "outputs": []
    },
    {
      "cell_type": "markdown",
      "metadata": {
        "id": "epCMlKxFl035"
      },
      "source": [
        "# Reminder\n",
        "\n",
        "* When you're done, save your notebook (File > Save) and then save a copy of your notebook to your IT-211 GitHub (File > Save to GitHub).\n",
        "* Send me the link to your file in GitHub to complete this assignment.\n",
        "* If you get stuck, ask on Slack!"
      ]
    }
  ]
}